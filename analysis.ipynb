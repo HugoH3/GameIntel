{
 "cells": [
  {
   "cell_type": "code",
   "id": "initial_id",
   "metadata": {
    "collapsed": true,
    "ExecuteTime": {
     "end_time": "2025-04-02T15:49:25.802353Z",
     "start_time": "2025-04-02T15:49:25.798467Z"
    }
   },
   "source": [
    "import pandas as pd\n",
    "import plotly.express as px"
   ],
   "outputs": [],
   "execution_count": 111
  },
  {
   "metadata": {},
   "cell_type": "markdown",
   "source": "# Limpeza de Dados",
   "id": "989561ed92bb6d5b"
  },
  {
   "metadata": {
    "ExecuteTime": {
     "end_time": "2025-04-02T15:49:44.739551Z",
     "start_time": "2025-04-02T15:49:44.609257Z"
    }
   },
   "cell_type": "code",
   "source": [
    "df = pd.read_csv('data/vg_sales.csv')\n",
    "df = df.drop('img', axis = 1)\n",
    "df = df.dropna(subset=['total_sales'])\n",
    "df['release_date'] = pd.to_datetime(df['release_date'])"
   ],
   "id": "6f810cba208fb1b9",
   "outputs": [],
   "execution_count": 114
  },
  {
   "metadata": {},
   "cell_type": "markdown",
   "source": "# Análise dos Dados\n",
   "id": "f0a08d6fcb535065"
  },
  {
   "metadata": {},
   "cell_type": "markdown",
   "source": "## Visão Geral do Dataset",
   "id": "2df767fba2c6d589"
  },
  {
   "metadata": {
    "ExecuteTime": {
     "end_time": "2025-04-02T15:53:59.877475Z",
     "start_time": "2025-04-02T15:53:59.866432Z"
    }
   },
   "cell_type": "code",
   "source": "df.groupby('genre')['total_sales'].mean()",
   "id": "e50436d8db9b67c6",
   "outputs": [
    {
     "data": {
      "text/plain": [
       "genre\n",
       "Action              0.396580\n",
       "Action-Adventure    0.562576\n",
       "Adventure           0.171891\n",
       "Board Game          0.110000\n",
       "Education           0.242500\n",
       "Fighting            0.391653\n",
       "MMO                 0.310333\n",
       "Misc                0.278338\n",
       "Music               0.352041\n",
       "Party               0.214138\n",
       "Platform            0.367140\n",
       "Puzzle              0.176044\n",
       "Racing              0.367400\n",
       "Role-Playing        0.286251\n",
       "Sandbox             1.890000\n",
       "Shooter             0.670370\n",
       "Simulation          0.268198\n",
       "Sports              0.457262\n",
       "Strategy            0.144280\n",
       "Visual Novel        0.026514\n",
       "Name: total_sales, dtype: float64"
      ]
     },
     "execution_count": 120,
     "metadata": {},
     "output_type": "execute_result"
    }
   ],
   "execution_count": 120
  },
  {
   "metadata": {
    "ExecuteTime": {
     "end_time": "2025-04-02T15:54:12.445814Z",
     "start_time": "2025-04-02T15:54:12.419918Z"
    }
   },
   "cell_type": "code",
   "source": "df.groupby('developer')['total_sales'].mean()",
   "id": "2b8c62967a0ff118",
   "outputs": [
    {
     "data": {
      "text/plain": [
       "developer\n",
       "07th Expansion                   0.066667\n",
       "0verflow                         0.010000\n",
       "10tacle Studios AG               0.095000\n",
       "11 bit studios                   0.020000\n",
       "13AM Games                       0.020000\n",
       "                                   ...   \n",
       "thatgamecompany                  0.170000\n",
       "thumbfood Ltd.                   0.010000\n",
       "tri-Ace                          0.261000\n",
       "tri-Crescendo / Monolith Soft    0.185000\n",
       "zSlide                           0.030000\n",
       "Name: total_sales, Length: 2867, dtype: float64"
      ]
     },
     "execution_count": 121,
     "metadata": {},
     "output_type": "execute_result"
    }
   ],
   "execution_count": 121
  },
  {
   "metadata": {
    "ExecuteTime": {
     "end_time": "2025-04-02T15:56:53.893839Z",
     "start_time": "2025-04-02T15:56:53.880978Z"
    }
   },
   "cell_type": "code",
   "source": "df.groupby('developer')['critic_score'].mean().dropna()",
   "id": "56df709bb79ee90e",
   "outputs": [
    {
     "data": {
      "text/plain": [
       "developer\n",
       "10tacle Studios AG               3.100000\n",
       "1C: Maddox Games                 5.000000\n",
       "1st Playable Productions         7.000000\n",
       "2015, Inc.                       9.300000\n",
       "2D Boy                           9.000000\n",
       "                                   ...   \n",
       "skip Ltd.                        6.680000\n",
       "syn Sophia                       8.500000\n",
       "tri-Ace                          7.666667\n",
       "tri-Crescendo / Monolith Soft    7.850000\n",
       "zSlide                           5.700000\n",
       "Name: critic_score, Length: 1050, dtype: float64"
      ]
     },
     "execution_count": 125,
     "metadata": {},
     "output_type": "execute_result"
    }
   ],
   "execution_count": 125
  },
  {
   "metadata": {
    "ExecuteTime": {
     "end_time": "2025-04-02T15:59:40.107844Z",
     "start_time": "2025-04-02T15:59:40.097981Z"
    }
   },
   "cell_type": "code",
   "source": "df.groupby('console')['total_sales'].mean().dropna()",
   "id": "2322b0935dd26679",
   "outputs": [
    {
     "data": {
      "text/plain": [
       "console\n",
       "2600    0.600476\n",
       "3DO     0.047500\n",
       "3DS     0.176637\n",
       "DC      0.271633\n",
       "DS      0.191223\n",
       "GB      0.431304\n",
       "GBA     0.249700\n",
       "GBC     1.446667\n",
       "GC      0.226383\n",
       "GEN     0.697407\n",
       "GG      0.040000\n",
       "Mob     0.030000\n",
       "N64     0.336165\n",
       "NES     0.998542\n",
       "NG      0.120000\n",
       "NS      0.138631\n",
       "OSX     0.030000\n",
       "PC      0.108327\n",
       "PCE     0.080000\n",
       "PCFX    0.030000\n",
       "PS      0.483407\n",
       "PS2     0.483424\n",
       "PS3     0.622923\n",
       "PS4     0.594626\n",
       "PSN     0.254000\n",
       "PSP     0.183052\n",
       "PSV     0.092676\n",
       "SAT     0.192400\n",
       "SCD     0.074000\n",
       "SNES    0.333553\n",
       "VC      0.058333\n",
       "WS      0.204286\n",
       "WW      0.125000\n",
       "Wii     0.338570\n",
       "WiiU    0.239324\n",
       "X360    0.660361\n",
       "XB      0.277572\n",
       "XBL     0.025000\n",
       "XOne    0.513282\n",
       "Name: total_sales, dtype: float64"
      ]
     },
     "execution_count": 126,
     "metadata": {},
     "output_type": "execute_result"
    }
   ],
   "execution_count": 126
  }
 ],
 "metadata": {
  "kernelspec": {
   "display_name": "Python 3",
   "language": "python",
   "name": "python3"
  },
  "language_info": {
   "codemirror_mode": {
    "name": "ipython",
    "version": 2
   },
   "file_extension": ".py",
   "mimetype": "text/x-python",
   "name": "python",
   "nbconvert_exporter": "python",
   "pygments_lexer": "ipython2",
   "version": "2.7.6"
  }
 },
 "nbformat": 4,
 "nbformat_minor": 5
}
